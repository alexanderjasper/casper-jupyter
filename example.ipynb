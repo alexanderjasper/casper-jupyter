{
 "cells": [
  {
   "cell_type": "markdown",
   "source": [
    "# En overskrift\n",
    "Noget tekst\n",
    "## En underoverskrift\n",
    "Noget mere tekst\n",
    "### En underunderoverskrift\n",
    "Endnu mere tekst\n",
    "\n",
    "![En smuk hest](img/hest.png)"
   ],
   "metadata": {
    "collapsed": false
   },
   "id": "684fe74d50932892"
  },
  {
   "cell_type": "markdown",
   "source": [],
   "metadata": {
    "collapsed": false
   },
   "id": "5e433f4c75340e19"
  }
 ],
 "metadata": {
  "kernelspec": {
   "display_name": "Python 3",
   "language": "python",
   "name": "python3"
  },
  "language_info": {
   "codemirror_mode": {
    "name": "ipython",
    "version": 2
   },
   "file_extension": ".py",
   "mimetype": "text/x-python",
   "name": "python",
   "nbconvert_exporter": "python",
   "pygments_lexer": "ipython2",
   "version": "2.7.6"
  }
 },
 "nbformat": 4,
 "nbformat_minor": 5
}
